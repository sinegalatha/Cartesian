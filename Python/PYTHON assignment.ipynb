{
 "cells": [
  {
   "cell_type": "code",
   "execution_count": 4,
   "metadata": {},
   "outputs": [
    {
     "name": "stdout",
     "output_type": "stream",
     "text": [
      "This declaration represents a political commitment among declaration partners to advance a positive vision for the Internet in this era of a united europe\n",
      "Europe united a of era this in internet the for vision positive a advance to partners declaration among commitment political a represents declaration this\n"
     ]
    }
   ],
   "source": [
    "a=input().strip().split(\" \")\n",
    "b=\" \".join(a[::-1]).capitalize()\n",
    "print(b)"
   ]
  },
  {
   "cell_type": "code",
   "execution_count": 8,
   "metadata": {},
   "outputs": [
    {
     "name": "stdout",
     "output_type": "stream",
     "text": [
      "['This', 'declaration', 'represents', 'a', 'political', 'commitment', 'among', 'declaration', 'partners', 'to', 'advance', 'a', 'positive', 'vision', 'for', 'the', 'Internet', 'in', 'this', 'era', 'of', 'a', 'united', 'europe']\n"
     ]
    }
   ],
   "source": [
    "print(a)"
   ]
  },
  {
   "cell_type": "code",
   "execution_count": 17,
   "metadata": {},
   "outputs": [
    {
     "name": "stdout",
     "output_type": "stream",
     "text": [
      "a    :3\n",
      "this    :2\n"
     ]
    }
   ],
   "source": [
    "c=b.strip().split(\" \")\n",
    "dic={}\n",
    "for i in c:\n",
    "    if i not in dic:\n",
    "        dic.update({i:c.count(i)})\n",
    "sort_dic = sorted(dic.items(), key=lambda x: x[1], reverse=True)\n",
    "print(sort_dic[0][0]+\"    :\"+str(sort_dic[0][1]))\n",
    "print(sort_dic[1][0]+\"    :\"+str(sort_dic[1][1]))"
   ]
  },
  {
   "cell_type": "code",
   "execution_count": null,
   "metadata": {},
   "outputs": [],
   "source": []
  },
  {
   "cell_type": "code",
   "execution_count": null,
   "metadata": {},
   "outputs": [],
   "source": []
  },
  {
   "cell_type": "code",
   "execution_count": null,
   "metadata": {},
   "outputs": [],
   "source": []
  }
 ],
 "metadata": {
  "kernelspec": {
   "display_name": "Python 3",
   "language": "python",
   "name": "python3"
  },
  "language_info": {
   "codemirror_mode": {
    "name": "ipython",
    "version": 3
   },
   "file_extension": ".py",
   "mimetype": "text/x-python",
   "name": "python",
   "nbconvert_exporter": "python",
   "pygments_lexer": "ipython3",
   "version": "3.8.3"
  }
 },
 "nbformat": 4,
 "nbformat_minor": 4
}
